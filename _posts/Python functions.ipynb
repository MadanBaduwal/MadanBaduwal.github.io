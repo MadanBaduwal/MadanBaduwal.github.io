{
  "nbformat": 4,
  "nbformat_minor": 0,
  "metadata": {
    "colab": {
      "name": "Python.ipynb",
      "provenance": [],
      "collapsed_sections": []
    },
    "kernelspec": {
      "name": "python3",
      "display_name": "Python 3"
    },
    "language_info": {
      "name": "python"
    }
  },
  "cells": [
    {
      "cell_type": "markdown",
      "metadata": {
        "id": "8Zd-VusP5pM-"
      },
      "source": [
        "In this lessons, we'll learn about the basics of Python function. "
      ]
    },
    {
      "cell_type": "markdown",
      "metadata": {
        "id": "CB9O_JhPxBEb"
      },
      "source": [
        "#All about the Function in python"
      ]
    },
    {
      "cell_type": "markdown",
      "metadata": {
        "id": "pgYnhC8U6Inp"
      },
      "source": [
        "A function is a sequence of statements that performs some kind of task. We use functions to eliminate code duplication."
      ]
    },
    {
      "cell_type": "markdown",
      "metadata": {
        "id": "8nNJrZO6JvQ8"
      },
      "source": [
        "We will learn different types of function in these lessons as shown figure below:"
      ]
    },
    {
      "cell_type": "markdown",
      "metadata": {
        "id": "EVTfa1AcFmn-"
      },
      "source": [
        "\n",
        "| ![space-1.jpg](https://d2h0cx97tjks2p.cloudfront.net/blogs/wp-content/uploads/sites/2/2018/01/Python-Functions.jpg) | \n",
        "|:--:| \n",
        "| *Type of Functions in Python : [Source](https://d2h0cx97tjks2p.cloudfront.net/blogs/wp-content/uploads/sites/2/2018/01/Python-Functions.jpg)* |\n",
        "\n",
        "\n"
      ]
    },
    {
      "cell_type": "markdown",
      "metadata": {
        "id": "VVOWd6j5xcC-"
      },
      "source": [
        "Before starting the function we need to recall the function name, arguments, and parameters.\n",
        "\n",
        "\n",
        "```\n",
        "def function_name(parameters):\n",
        "  statement\n",
        "  statement\n",
        "  ...\n",
        "  return value\n",
        "\n",
        "return_value = function_name(arguments)\n",
        "```\n",
        "\n"
      ]
    },
    {
      "cell_type": "markdown",
      "metadata": {
        "id": "g979LMnra2cu"
      },
      "source": [
        "## Defining Function"
      ]
    },
    {
      "cell_type": "markdown",
      "metadata": {
        "id": "5DfsPh2CCjo3"
      },
      "source": [
        "We can define a function with the def keyword."
      ]
    },
    {
      "cell_type": "code",
      "metadata": {
        "colab": {
          "base_uri": "https://localhost:8080/"
        },
        "id": "h8GXc1cJa8gL",
        "outputId": "4445895f-330b-4510-bb5c-13175062e3e8"
      },
      "source": [
        "def print_hello():\n",
        "  print(f\"Hello\")\n",
        "\n",
        "print_hello()"
      ],
      "execution_count": null,
      "outputs": [
        {
          "output_type": "stream",
          "text": [
            "Hello\n"
          ],
          "name": "stdout"
        }
      ]
    },
    {
      "cell_type": "markdown",
      "metadata": {
        "id": "2ugnfDOAeDns"
      },
      "source": [
        "### More on defining function"
      ]
    },
    {
      "cell_type": "markdown",
      "metadata": {
        "id": "i71my2D0eooM"
      },
      "source": [
        "We can define a function with a variable number of arguments."
      ]
    },
    {
      "cell_type": "markdown",
      "metadata": {
        "id": "B5O1DmVMeqWK"
      },
      "source": [
        "#### Default Argument Values"
      ]
    },
    {
      "cell_type": "code",
      "metadata": {
        "id": "rWU7ZK3_fc3t"
      },
      "source": [
        "# Defining function with default arguments\n",
        "def sum(x , y=2, z=3):\n",
        "  print(f\"Sum of x, y, and z is:{x+y+z}\")"
      ],
      "execution_count": null,
      "outputs": []
    },
    {
      "cell_type": "markdown",
      "metadata": {
        "id": "_B5LimG8i8hU"
      },
      "source": [
        "Calling a function in different ways:\n",
        "\n",
        "\n"
      ]
    },
    {
      "cell_type": "code",
      "metadata": {
        "colab": {
          "base_uri": "https://localhost:8080/"
        },
        "id": "xXGIOecHhcbq",
        "outputId": "fc6d1a2d-d63e-4977-f64b-5c705d942656"
      },
      "source": [
        "# giving only the mendatory argument\n",
        "sum(1)"
      ],
      "execution_count": null,
      "outputs": [
        {
          "output_type": "stream",
          "text": [
            "Sum of x, y, and z is:6\n"
          ],
          "name": "stdout"
        }
      ]
    },
    {
      "cell_type": "code",
      "metadata": {
        "colab": {
          "base_uri": "https://localhost:8080/"
        },
        "id": "iRZGk2dYhE35",
        "outputId": "275cbf22-1e92-41be-ebaf-be2aca44afa0"
      },
      "source": [
        "# Giving one of the option arguments\n",
        "sum(3,4)"
      ],
      "execution_count": null,
      "outputs": [
        {
          "output_type": "stream",
          "text": [
            "Sum of x, y, and z is:10\n"
          ],
          "name": "stdout"
        }
      ]
    },
    {
      "cell_type": "code",
      "metadata": {
        "colab": {
          "base_uri": "https://localhost:8080/"
        },
        "id": "oPGl6I7skCP8",
        "outputId": "b3c3acba-89d8-4a9f-b40c-99be62e1e92d"
      },
      "source": [
        "# Giving all arguments\n",
        "sum(3,4,5)"
      ],
      "execution_count": null,
      "outputs": [
        {
          "output_type": "stream",
          "text": [
            "Sum of x, y, and z is:12\n"
          ],
          "name": "stdout"
        }
      ]
    },
    {
      "cell_type": "markdown",
      "metadata": {
        "id": "XGp7n3i_kSnI"
      },
      "source": [
        "Note1 : The default values are evaluated at the point of function defination in the defining scope, so that"
      ]
    },
    {
      "cell_type": "code",
      "metadata": {
        "colab": {
          "base_uri": "https://localhost:8080/"
        },
        "id": "YqEst4YCkdwj",
        "outputId": "06859d0d-4aff-4397-d0f0-d00aec4056e8"
      },
      "source": [
        "a = 10\n",
        "# The default value for variable arg is set at the time of function definition\n",
        "def function(arg=a):\n",
        "  print(arg)\n",
        "\n",
        "a = 15\n",
        "function()"
      ],
      "execution_count": null,
      "outputs": [
        {
          "output_type": "stream",
          "text": [
            "10\n"
          ],
          "name": "stdout"
        }
      ]
    },
    {
      "cell_type": "markdown",
      "metadata": {
        "id": "7EapxZvKlNsR"
      },
      "source": [
        "Note2: The default value is evaluated only once. This makes a difference when the default is a mutable object such as a list, dictionary, or instances of most classes. For example, the following function accumulates the arguments passed to it on subsequent calls:"
      ]
    },
    {
      "cell_type": "code",
      "metadata": {
        "colab": {
          "base_uri": "https://localhost:8080/"
        },
        "id": "yW4tuMEClV2Y",
        "outputId": "ff750ad5-531c-41de-f23f-6b4ae6262080"
      },
      "source": [
        "# The default value is evaluated only once but in the case of mutable(list, dictionary...) we can evaluate many times.\n",
        "def append(a,L={}):\n",
        "  L[a]=a\n",
        "  return L\n",
        "\n",
        "print(append(1))\n",
        "print(append(2))\n",
        "print(append(3))"
      ],
      "execution_count": null,
      "outputs": [
        {
          "output_type": "stream",
          "text": [
            "{1: 1}\n",
            "{1: 1, 2: 2}\n",
            "{1: 1, 2: 2, 3: 3}\n"
          ],
          "name": "stdout"
        }
      ]
    },
    {
      "cell_type": "markdown",
      "metadata": {
        "id": "8O2yCnnyhKIg"
      },
      "source": [
        "* Note: Order matter while calling in a default argument values function."
      ]
    },
    {
      "cell_type": "markdown",
      "metadata": {
        "id": "nGBiD_xVoSfW"
      },
      "source": [
        "#### Keyword Arguments"
      ]
    },
    {
      "cell_type": "markdown",
      "metadata": {
        "id": "OdKnQU6sqAqy"
      },
      "source": [
        "Functions can also be called using keyword arguments of the form kwarg=value. For instance, the following function:"
      ]
    },
    {
      "cell_type": "code",
      "metadata": {
        "id": "gyNw2fS8qZtl"
      },
      "source": [
        "def add(x,y=2,z=3):\n",
        "  print(f\"Sum of x, y, and z is:{x+y+z}\")"
      ],
      "execution_count": null,
      "outputs": []
    },
    {
      "cell_type": "markdown",
      "metadata": {
        "id": "6hVQtxKdrEEp"
      },
      "source": [
        "Calling a function in different ways:\n"
      ]
    },
    {
      "cell_type": "code",
      "metadata": {
        "colab": {
          "base_uri": "https://localhost:8080/"
        },
        "id": "A1LiTVjJrFeb",
        "outputId": "b7942b2e-4800-4853-cedb-ea1fbea0afe6"
      },
      "source": [
        "add(1)"
      ],
      "execution_count": null,
      "outputs": [
        {
          "output_type": "stream",
          "text": [
            "Sum of x, y, and z is:6\n"
          ],
          "name": "stdout"
        }
      ]
    },
    {
      "cell_type": "code",
      "metadata": {
        "colab": {
          "base_uri": "https://localhost:8080/"
        },
        "id": "GWouumQdraFr",
        "outputId": "97b47d4b-0989-4499-e150-b9da12620333"
      },
      "source": [
        "add(x=2)"
      ],
      "execution_count": null,
      "outputs": [
        {
          "output_type": "stream",
          "text": [
            "Sum of x, y, and z is:7\n"
          ],
          "name": "stdout"
        }
      ]
    },
    {
      "cell_type": "code",
      "metadata": {
        "colab": {
          "base_uri": "https://localhost:8080/"
        },
        "id": "tz2uD9rqtD5e",
        "outputId": "fc0b5e3a-086b-4b72-f260-c2822682de5f"
      },
      "source": [
        "add(x=2,y=4)"
      ],
      "execution_count": null,
      "outputs": [
        {
          "output_type": "stream",
          "text": [
            "Sum of x, y, and z is:9\n"
          ],
          "name": "stdout"
        }
      ]
    },
    {
      "cell_type": "code",
      "metadata": {
        "colab": {
          "base_uri": "https://localhost:8080/"
        },
        "id": "Ip8URNfbtKHb",
        "outputId": "f38d27db-bf7c-41c5-f6c7-cc40df10a5a3"
      },
      "source": [
        "add(1,2,3)"
      ],
      "execution_count": null,
      "outputs": [
        {
          "output_type": "stream",
          "text": [
            "Sum of x, y, and z is:6\n"
          ],
          "name": "stdout"
        }
      ]
    },
    {
      "cell_type": "code",
      "metadata": {
        "colab": {
          "base_uri": "https://localhost:8080/"
        },
        "id": "GDjA5RyctOyU",
        "outputId": "887fa248-c1f9-4640-9717-90cf47b833ab"
      },
      "source": [
        "add(1,2,z=8)"
      ],
      "execution_count": null,
      "outputs": [
        {
          "output_type": "stream",
          "text": [
            "Sum of x, y, and z is:11\n"
          ],
          "name": "stdout"
        }
      ]
    },
    {
      "cell_type": "markdown",
      "metadata": {
        "id": "XVLCm1IQtWN2"
      },
      "source": [
        "But some following calls are invalid:"
      ]
    },
    {
      "cell_type": "code",
      "metadata": {
        "colab": {
          "base_uri": "https://localhost:8080/",
          "height": 163
        },
        "id": "fqqP--ERtiyK",
        "outputId": "8c7efcde-f844-48c7-ffd8-96fff203d1e9"
      },
      "source": [
        "add()"
      ],
      "execution_count": null,
      "outputs": [
        {
          "output_type": "error",
          "ename": "TypeError",
          "evalue": "ignored",
          "traceback": [
            "\u001b[0;31m---------------------------------------------------------------------------\u001b[0m",
            "\u001b[0;31mTypeError\u001b[0m                                 Traceback (most recent call last)",
            "\u001b[0;32m<ipython-input-33-d5d29de3ed94>\u001b[0m in \u001b[0;36m<module>\u001b[0;34m()\u001b[0m\n\u001b[0;32m----> 1\u001b[0;31m \u001b[0madd\u001b[0m\u001b[0;34m(\u001b[0m\u001b[0;34m)\u001b[0m\u001b[0;34m\u001b[0m\u001b[0;34m\u001b[0m\u001b[0m\n\u001b[0m",
            "\u001b[0;31mTypeError\u001b[0m: add() missing 1 required positional argument: 'x'"
          ]
        }
      ]
    },
    {
      "cell_type": "code",
      "metadata": {
        "colab": {
          "base_uri": "https://localhost:8080/",
          "height": 129
        },
        "id": "RdPGRGCItpWM",
        "outputId": "69140284-17e6-4553-98a4-c27826eabe30"
      },
      "source": [
        "add(x=1,2)"
      ],
      "execution_count": null,
      "outputs": [
        {
          "output_type": "error",
          "ename": "SyntaxError",
          "evalue": "ignored",
          "traceback": [
            "\u001b[0;36m  File \u001b[0;32m\"<ipython-input-34-ea0ca97f0446>\"\u001b[0;36m, line \u001b[0;32m1\u001b[0m\n\u001b[0;31m    add(x=1,2)\u001b[0m\n\u001b[0m           ^\u001b[0m\n\u001b[0;31mSyntaxError\u001b[0m\u001b[0;31m:\u001b[0m positional argument follows keyword argument\n"
          ]
        }
      ]
    },
    {
      "cell_type": "code",
      "metadata": {
        "colab": {
          "base_uri": "https://localhost:8080/",
          "height": 163
        },
        "id": "Q1buEYJotwLm",
        "outputId": "eb9cea54-da2a-4105-fd64-8f3fa0738d08"
      },
      "source": [
        "add(5,x=2)"
      ],
      "execution_count": null,
      "outputs": [
        {
          "output_type": "error",
          "ename": "TypeError",
          "evalue": "ignored",
          "traceback": [
            "\u001b[0;31m---------------------------------------------------------------------------\u001b[0m",
            "\u001b[0;31mTypeError\u001b[0m                                 Traceback (most recent call last)",
            "\u001b[0;32m<ipython-input-37-cf0a26e4ab05>\u001b[0m in \u001b[0;36m<module>\u001b[0;34m()\u001b[0m\n\u001b[0;32m----> 1\u001b[0;31m \u001b[0madd\u001b[0m\u001b[0;34m(\u001b[0m\u001b[0;36m5\u001b[0m\u001b[0;34m,\u001b[0m\u001b[0mx\u001b[0m\u001b[0;34m=\u001b[0m\u001b[0;36m2\u001b[0m\u001b[0;34m)\u001b[0m\u001b[0;34m\u001b[0m\u001b[0;34m\u001b[0m\u001b[0m\n\u001b[0m",
            "\u001b[0;31mTypeError\u001b[0m: add() got multiple values for argument 'x'"
          ]
        }
      ]
    },
    {
      "cell_type": "code",
      "metadata": {
        "colab": {
          "base_uri": "https://localhost:8080/",
          "height": 163
        },
        "id": "wML5Qs8RuBRp",
        "outputId": "d3babaf8-b666-4c63-bab0-896fb7219378"
      },
      "source": [
        "add(k=2)"
      ],
      "execution_count": null,
      "outputs": [
        {
          "output_type": "error",
          "ename": "TypeError",
          "evalue": "ignored",
          "traceback": [
            "\u001b[0;31m---------------------------------------------------------------------------\u001b[0m",
            "\u001b[0;31mTypeError\u001b[0m                                 Traceback (most recent call last)",
            "\u001b[0;32m<ipython-input-38-4063630c747d>\u001b[0m in \u001b[0;36m<module>\u001b[0;34m()\u001b[0m\n\u001b[0;32m----> 1\u001b[0;31m \u001b[0madd\u001b[0m\u001b[0;34m(\u001b[0m\u001b[0mk\u001b[0m\u001b[0;34m=\u001b[0m\u001b[0;36m2\u001b[0m\u001b[0;34m)\u001b[0m\u001b[0;34m\u001b[0m\u001b[0;34m\u001b[0m\u001b[0m\n\u001b[0m",
            "\u001b[0;31mTypeError\u001b[0m: add() got an unexpected keyword argument 'k'"
          ]
        }
      ]
    },
    {
      "cell_type": "markdown",
      "metadata": {
        "id": "mmsDr_pgu_G1"
      },
      "source": [
        "#### Special parameters"
      ]
    },
    {
      "cell_type": "markdown",
      "metadata": {
        "id": "KOYt_Uej0e88"
      },
      "source": [
        "Developer needs only look at the function definition to determine if items are passed by position, by position or keyword, or by keyword."
      ]
    },
    {
      "cell_type": "markdown",
      "metadata": {
        "id": "vu5QjMhL4I9g"
      },
      "source": [
        "A function definition may look like:\n",
        "\n",
        "\n",
        "```\n",
        "def f(pos1, pos2, /, pos_or_kwd, *, kwd1, kwd2):\n",
        "      -----------    ----------     ----------\n",
        "        |             |                  |\n",
        "        |        Positional or keyword   |\n",
        "        |                                - Keyword only\n",
        "         -- Positional only\n",
        "```\n",
        "\n"
      ]
    },
    {
      "cell_type": "markdown",
      "metadata": {
        "id": "y3eXZdq-4oRc"
      },
      "source": [
        "where / and * are optional. If used, these symbols indicate the kind of parameter by how the arguments may be passed to the function: positional-only, positional-or-keyword, and keyword-only. Keyword parameters are also referred to as named parameters."
      ]
    },
    {
      "cell_type": "markdown",
      "metadata": {
        "id": "--lxFD0G43OK"
      },
      "source": [
        "##### Positional-or-Keyword Arguments"
      ]
    },
    {
      "cell_type": "markdown",
      "metadata": {
        "id": "W4CPDrF_5Ctl"
      },
      "source": [
        "If / and * are not present in the function definition, arguments may be passed to a function by position or by keyword."
      ]
    },
    {
      "cell_type": "markdown",
      "metadata": {
        "id": "W_ULHFJD5zDV"
      },
      "source": [
        "##### Positional-Only Parameters"
      ]
    },
    {
      "cell_type": "markdown",
      "metadata": {
        "id": "K-Q7FQUr5-NL"
      },
      "source": [
        "```\n",
        "def f(pos1, pos2, /):\n",
        "      -----------    ----------     ----------\n",
        "        |\n",
        "         -- Positional only\n",
        "```"
      ]
    },
    {
      "cell_type": "markdown",
      "metadata": {
        "id": "uGYMTijHE8lr"
      },
      "source": [
        "\n",
        "\n",
        "```\n",
        "# This is formatted as code\n",
        "```\n",
        "\n"
      ]
    },
    {
      "cell_type": "code",
      "metadata": {
        "colab": {
          "base_uri": "https://localhost:8080/",
          "height": 129
        },
        "id": "ZCPi4VzH6J1x",
        "outputId": "98c72c2d-6570-4cdb-a06a-0cda644c87eb"
      },
      "source": [
        "def pos_only_arg(arg,/):\n",
        "  print(arg)"
      ],
      "execution_count": null,
      "outputs": [
        {
          "output_type": "error",
          "ename": "SyntaxError",
          "evalue": "ignored",
          "traceback": [
            "\u001b[0;36m  File \u001b[0;32m\"<ipython-input-1-7ee1f9b480bd>\"\u001b[0;36m, line \u001b[0;32m1\u001b[0m\n\u001b[0;31m    def pos_only_arg(arg,/):\u001b[0m\n\u001b[0m                         ^\u001b[0m\n\u001b[0;31mSyntaxError\u001b[0m\u001b[0;31m:\u001b[0m invalid syntax\n"
          ]
        }
      ]
    },
    {
      "cell_type": "markdown",
      "metadata": {
        "id": "vpkzrNdGCm0Y"
      },
      "source": [
        "Note: poition only support 3.8"
      ]
    },
    {
      "cell_type": "markdown",
      "metadata": {
        "id": "Y-ciLl3mYhh7"
      },
      "source": [
        "```\n",
        ">>> pos_only_arg(1)\n",
        "1\n",
        "\n",
        ">>> pos_only_arg(arg=1)\n",
        "Traceback (most recent call last):\n",
        "  File \"<stdin>\", line 1, in <module>\n",
        "TypeError: pos_only_arg() got an unexpected keyword argument 'arg'\n",
        "\n",
        "```"
      ]
    },
    {
      "cell_type": "markdown",
      "metadata": {
        "id": "2JBtXG5PXLvj"
      },
      "source": [
        "##### Keyword-Only Parameters"
      ]
    },
    {
      "cell_type": "code",
      "metadata": {
        "id": "qy0Hk0BOYb0E"
      },
      "source": [
        "def kwd_only_arg(*, arg):\n",
        "    print(arg)"
      ],
      "execution_count": null,
      "outputs": []
    },
    {
      "cell_type": "code",
      "metadata": {
        "colab": {
          "base_uri": "https://localhost:8080/",
          "height": 197
        },
        "id": "lTKBz3mMYy5s",
        "outputId": "6bbee308-602f-4b58-b0d3-dcb4e9eb3314"
      },
      "source": [
        "kwd_only_arg(3)"
      ],
      "execution_count": null,
      "outputs": [
        {
          "output_type": "error",
          "ename": "TypeError",
          "evalue": "ignored",
          "traceback": [
            "\u001b[0;31m---------------------------------------------------------------------------\u001b[0m",
            "\u001b[0;31mTypeError\u001b[0m                                 Traceback (most recent call last)",
            "\u001b[0;32m<ipython-input-8-896c53ef896c>\u001b[0m in \u001b[0;36m<module>\u001b[0;34m()\u001b[0m\n\u001b[0;32m----> 1\u001b[0;31m \u001b[0mkwd_only_arg\u001b[0m\u001b[0;34m(\u001b[0m\u001b[0;36m3\u001b[0m\u001b[0;34m)\u001b[0m\u001b[0;34m\u001b[0m\u001b[0;34m\u001b[0m\u001b[0m\n\u001b[0m",
            "\u001b[0;31mTypeError\u001b[0m: kwd_only_arg() takes 0 positional arguments but 1 was given"
          ]
        }
      ]
    },
    {
      "cell_type": "code",
      "metadata": {
        "colab": {
          "base_uri": "https://localhost:8080/"
        },
        "id": "GqSyT7bHY4Fb",
        "outputId": "74845dd8-6a70-4c0d-f2af-52695b66ccce"
      },
      "source": [
        "kwd_only_arg(arg=3)"
      ],
      "execution_count": null,
      "outputs": [
        {
          "output_type": "stream",
          "text": [
            "3\n"
          ],
          "name": "stdout"
        }
      ]
    },
    {
      "cell_type": "markdown",
      "metadata": {
        "id": "0zFzA4PoZHmV"
      },
      "source": [
        "#### Arbitrary Argument \n"
      ]
    },
    {
      "cell_type": "markdown",
      "metadata": {
        "id": "FacO-o93bclW"
      },
      "source": [
        "Function can be call with an arbitrary number of arguments. "
      ]
    },
    {
      "cell_type": "markdown",
      "metadata": {
        "id": "LcD3rQd-i4fF"
      },
      "source": [
        "##### Arbitrary Argument tuples"
      ]
    },
    {
      "cell_type": "code",
      "metadata": {
        "id": "gghfDMEXcSSf"
      },
      "source": [
        "def arbitrary_argument(*args):\n",
        "  return args"
      ],
      "execution_count": null,
      "outputs": []
    },
    {
      "cell_type": "code",
      "metadata": {
        "colab": {
          "base_uri": "https://localhost:8080/"
        },
        "id": "gSmnVn5ycYDl",
        "outputId": "cb18ca87-c945-409f-cae7-3f28849f771e"
      },
      "source": [
        "print(arbitrary_argument(\"hi\",\"iam\",\"madan\"))"
      ],
      "execution_count": null,
      "outputs": [
        {
          "output_type": "stream",
          "text": [
            "('hi', 'iam', 'madan')\n"
          ],
          "name": "stdout"
        }
      ]
    },
    {
      "cell_type": "markdown",
      "metadata": {
        "id": "oiKnHbWjc5Ky"
      },
      "source": [
        "Note: From above we can see that  arguments are wrapped up in a tuple (see Tuples and Sequences)"
      ]
    },
    {
      "cell_type": "markdown",
      "metadata": {
        "id": "hFXd9vRTmSFx"
      },
      "source": [
        "##### Arbitrary Argument lists"
      ]
    },
    {
      "cell_type": "code",
      "metadata": {
        "id": "vfufUwkJmUUb"
      },
      "source": [
        "def arbitrary_argument(*args):\n",
        "  L = list(args)\n",
        "  return L"
      ],
      "execution_count": null,
      "outputs": []
    },
    {
      "cell_type": "code",
      "metadata": {
        "id": "SNDEspDsmamJ",
        "colab": {
          "base_uri": "https://localhost:8080/"
        },
        "outputId": "d1984795-6e34-45b9-f55a-8ef23b5a32b0"
      },
      "source": [
        "print(arbitrary_argument(\"hi\",\"iam\",\"madan\"))"
      ],
      "execution_count": null,
      "outputs": [
        {
          "output_type": "stream",
          "text": [
            "['hi', 'iam', 'madan']\n"
          ],
          "name": "stdout"
        }
      ]
    },
    {
      "cell_type": "markdown",
      "metadata": {
        "id": "N1xzf-PsjB5w"
      },
      "source": [
        "##### Arbitrary Argument dictionaries"
      ]
    },
    {
      "cell_type": "markdown",
      "metadata": {
        "id": "GqIs7hfNiHL0"
      },
      "source": [
        "In the same fashion, dictionaries can deliver keyword arguments with the **-operator:"
      ]
    },
    {
      "cell_type": "code",
      "metadata": {
        "id": "5A4_rWgmfBo6"
      },
      "source": [
        "def arbitrary_argument(**args):\n",
        "  return args"
      ],
      "execution_count": null,
      "outputs": []
    },
    {
      "cell_type": "code",
      "metadata": {
        "colab": {
          "base_uri": "https://localhost:8080/"
        },
        "id": "ZGBo9UwdfLsm",
        "outputId": "a988aff5-f631-4839-a179-37f2fae0cc5d"
      },
      "source": [
        "print(arbitrary_argument(hi=\"hi\",iam=\"iam\",Madan=\"Madan\"))\n"
      ],
      "execution_count": null,
      "outputs": [
        {
          "output_type": "stream",
          "text": [
            "{'hi': 'hi', 'iam': 'iam', 'Madan': 'Madan'}\n"
          ],
          "name": "stdout"
        }
      ]
    },
    {
      "cell_type": "markdown",
      "metadata": {
        "id": "FjHOuuL6CZVW"
      },
      "source": [
        "Note: for dictionary we need to pass \"key\":\"value\" into key=\"value\" this formate."
      ]
    },
    {
      "cell_type": "markdown",
      "metadata": {
        "id": "mqdUN3psp4H4"
      },
      "source": [
        "#### Lambda Expressions \n"
      ]
    },
    {
      "cell_type": "markdown",
      "metadata": {
        "id": "Ti4uXLvVve0z"
      },
      "source": [
        "Small anonymous functions can be created with the lambda keyword. \n",
        "\n",
        "* `lambda arguments : expression`\n",
        "\n",
        "**Arguments:**\n",
        "\n",
        "-Positional arguments\n",
        "\n",
        "-Named arguments (sometimes called keyword arguments)\n",
        "\n",
        "-Variable list of arguments (often referred to as varargs)\n",
        "\n",
        "-Variable list of keyword arguments\n",
        "\n",
        "-Keyword-only arguments\n"
      ]
    },
    {
      "cell_type": "code",
      "metadata": {
        "colab": {
          "base_uri": "https://localhost:8080/"
        },
        "id": "MDakTa4bvf34",
        "outputId": "c2e7b166-a65b-4840-9b3b-89bcd8f03660"
      },
      "source": [
        "lambda a,b:a+b"
      ],
      "execution_count": null,
      "outputs": [
        {
          "output_type": "execute_result",
          "data": {
            "text/plain": [
              "<function __main__.<lambda>>"
            ]
          },
          "metadata": {
            "tags": []
          },
          "execution_count": 86
        }
      ]
    },
    {
      "cell_type": "markdown",
      "metadata": {
        "id": "r-t5oDBFDMvr"
      },
      "source": [
        "calling lambda function"
      ]
    },
    {
      "cell_type": "code",
      "metadata": {
        "colab": {
          "base_uri": "https://localhost:8080/"
        },
        "id": "2Kg0qsocDOZQ",
        "outputId": "43ddce58-09bb-4120-fc57-87a7ea6f2813"
      },
      "source": [
        "_(1,2) # Note _  call recent run things"
      ],
      "execution_count": null,
      "outputs": [
        {
          "output_type": "execute_result",
          "data": {
            "text/plain": [
              "3"
            ]
          },
          "metadata": {
            "tags": []
          },
          "execution_count": 87
        }
      ]
    },
    {
      "cell_type": "code",
      "metadata": {
        "colab": {
          "base_uri": "https://localhost:8080/",
          "height": 35
        },
        "id": "yrZXWc58DtaQ",
        "outputId": "d01c5501-2f2c-48af-e251-77549d2a77ab"
      },
      "source": [
        "_ #last output value"
      ],
      "execution_count": null,
      "outputs": [
        {
          "output_type": "execute_result",
          "data": {
            "application/vnd.google.colaboratory.intrinsic+json": {
              "type": "string"
            },
            "text/plain": [
              "'madan'"
            ]
          },
          "metadata": {
            "tags": []
          },
          "execution_count": 85
        }
      ]
    },
    {
      "cell_type": "code",
      "metadata": {
        "colab": {
          "base_uri": "https://localhost:8080/"
        },
        "id": "5J6IXq_0Dzof",
        "outputId": "9e690298-6815-4c16-a4bf-279595d46446"
      },
      "source": [
        "(lambda a,b:a*b)(2,3)# call lambda function"
      ],
      "execution_count": null,
      "outputs": [
        {
          "output_type": "execute_result",
          "data": {
            "text/plain": [
              "6"
            ]
          },
          "metadata": {
            "tags": []
          },
          "execution_count": 88
        }
      ]
    },
    {
      "cell_type": "code",
      "metadata": {
        "colab": {
          "base_uri": "https://localhost:8080/"
        },
        "id": "TTXrSAfrD-Ok",
        "outputId": "ac87a7dd-955c-4dea-f9eb-eb17b0172464"
      },
      "source": [
        "divide = lambda a,b: a/b\n",
        "\n",
        "divide(4,2) # calling lambda function"
      ],
      "execution_count": null,
      "outputs": [
        {
          "output_type": "execute_result",
          "data": {
            "text/plain": [
              "2.0"
            ]
          },
          "metadata": {
            "tags": []
          },
          "execution_count": 89
        }
      ]
    },
    {
      "cell_type": "markdown",
      "metadata": {
        "id": "7zKWMUpL5d2l"
      },
      "source": [
        "#### Recursion\n",
        "\n"
      ]
    },
    {
      "cell_type": "markdown",
      "metadata": {
        "id": "bZPMk9455qmH"
      },
      "source": [
        "We can make a function call itself. This is known as recursion."
      ]
    },
    {
      "cell_type": "code",
      "metadata": {
        "id": "e5A7GV3_Ephy"
      },
      "source": [
        "def facto(n):\n",
        "  if n==1:\n",
        "    return 1\n",
        "  return n*facto(n-1) "
      ],
      "execution_count": 14,
      "outputs": []
    },
    {
      "cell_type": "code",
      "metadata": {
        "colab": {
          "base_uri": "https://localhost:8080/"
        },
        "id": "bMhYhcJKEt1b",
        "outputId": "14e724e9-55b3-488a-bee8-fa5cc9535442"
      },
      "source": [
        "facto(5)"
      ],
      "execution_count": 15,
      "outputs": [
        {
          "output_type": "execute_result",
          "data": {
            "text/plain": [
              "120"
            ]
          },
          "metadata": {
            "tags": []
          },
          "execution_count": 15
        }
      ]
    },
    {
      "cell_type": "markdown",
      "metadata": {
        "id": "QOnaCVs7E6y_"
      },
      "source": [
        "How does it work?\n",
        "\n",
        "We already know the return keyword return value.\n",
        "\n",
        "first step:  value = 5*facto(4)\n",
        "\n",
        "second step: value = 5* 4 * facto(3)\n",
        "\n",
        "third step: value = 5* 4*  3 * facto(2)\n",
        "\n",
        "fourth step: value = 5 * 4 * 3 * 2 *facto(1)\n",
        "\n",
        "fifth step: value = 5 * 4 * 3 * 2 * 1"
      ]
    },
    {
      "cell_type": "markdown",
      "metadata": {
        "id": "sq-aYXuw7Nl4"
      },
      "source": [
        "#### Decorators"
      ]
    },
    {
      "cell_type": "markdown",
      "metadata": {
        "id": "Lr3kkh337TU2"
      },
      "source": [
        "Decorators are very powerful and useful tool in Python since it allows programmers to modify the behavior of function or class."
      ]
    },
    {
      "cell_type": "code",
      "metadata": {
        "id": "Gjl7ZmIC9AER"
      },
      "source": [
        "def uppercase_decorator(function): # Pass function as an argument\n",
        "    def wrapper():\n",
        "        func = function()\n",
        "        make_uppercase = func.upper()\n",
        "        return make_uppercase # return function as value\n",
        "\n",
        "    return wrapper # return function as value"
      ],
      "execution_count": 9,
      "outputs": []
    },
    {
      "cell_type": "markdown",
      "metadata": {
        "id": "IddoCMHf9Nbz"
      },
      "source": [
        "Our decorator function takes a function as an argument, and we shall, therefore, define a function and pass it to our decorator."
      ]
    },
    {
      "cell_type": "code",
      "metadata": {
        "colab": {
          "base_uri": "https://localhost:8080/",
          "height": 35
        },
        "id": "vNnoeLsd9EU1",
        "outputId": "46c3d033-7dd8-4e3e-bc8d-afc8fd907e5a"
      },
      "source": [
        "def say_hi():\n",
        "    return 'hello there'\n",
        "\n",
        "decorate = uppercase_decorator(say_hi)\n",
        "decorate()"
      ],
      "execution_count": 10,
      "outputs": [
        {
          "output_type": "execute_result",
          "data": {
            "application/vnd.google.colaboratory.intrinsic+json": {
              "type": "string"
            },
            "text/plain": [
              "'HELLO THERE'"
            ]
          },
          "metadata": {
            "tags": []
          },
          "execution_count": 10
        }
      ]
    },
    {
      "cell_type": "markdown",
      "metadata": {
        "id": "sPDPsu8N9VsY"
      },
      "source": [
        "However, Python provides a much easier way for us to apply decorators. We simply use the @ symbol before the function we'd like to decorate. "
      ]
    },
    {
      "cell_type": "code",
      "metadata": {
        "colab": {
          "base_uri": "https://localhost:8080/",
          "height": 35
        },
        "id": "cNGETaP_9W8l",
        "outputId": "fbeea845-b18c-406d-d366-95dcdf07cded"
      },
      "source": [
        "@uppercase_decorator\n",
        "def say_hi():\n",
        "    return 'hello there'\n",
        "\n",
        "say_hi()"
      ],
      "execution_count": 11,
      "outputs": [
        {
          "output_type": "execute_result",
          "data": {
            "application/vnd.google.colaboratory.intrinsic+json": {
              "type": "string"
            },
            "text/plain": [
              "'HELLO THERE'"
            ]
          },
          "metadata": {
            "tags": []
          },
          "execution_count": 11
        }
      ]
    },
    {
      "cell_type": "markdown",
      "metadata": {
        "id": "7_mnf8lI7hqF"
      },
      "source": [
        "#### Generator functions and yield"
      ]
    },
    {
      "cell_type": "markdown",
      "metadata": {
        "id": "l72V7ua47y7N"
      },
      "source": [
        "Consider this simple function which returns a range of numbers as a list:\n"
      ]
    },
    {
      "cell_type": "code",
      "metadata": {
        "id": "TPjvLVsn7wPb"
      },
      "source": [
        "def my_list(n):\n",
        "    i = 0\n",
        "    l = []\n",
        "\n",
        "    while i < n:\n",
        "        l.append(i)\n",
        "        i += 1\n",
        "\n",
        "    return l"
      ],
      "execution_count": 6,
      "outputs": []
    },
    {
      "cell_type": "markdown",
      "metadata": {
        "id": "ARb9JuEt75uC"
      },
      "source": [
        "This function builds the full list of numbers and returns it. We can change this function into a generator function while preserving a very similar syntax, like this:"
      ]
    },
    {
      "cell_type": "code",
      "metadata": {
        "id": "wXhQMz3V77pF"
      },
      "source": [
        "def my_gen(n):\n",
        "    i = 0\n",
        "\n",
        "    while i < n:\n",
        "        yield i  #  Yield le value return gardain , state retun garxa\n",
        "        i += 1"
      ],
      "execution_count": 5,
      "outputs": []
    },
    {
      "cell_type": "code",
      "metadata": {
        "colab": {
          "base_uri": "https://localhost:8080/"
        },
        "id": "wQ6rJOWzLry7",
        "outputId": "d314d267-95c2-4bb5-af9d-c270b0c523b4"
      },
      "source": [
        "my_gen(3) "
      ],
      "execution_count": 16,
      "outputs": [
        {
          "output_type": "execute_result",
          "data": {
            "text/plain": [
              "<generator object my_gen at 0x7f06035b3c50>"
            ]
          },
          "metadata": {
            "tags": []
          },
          "execution_count": 16
        }
      ]
    },
    {
      "cell_type": "markdown",
      "metadata": {
        "id": "_xITGSDwMGfI"
      },
      "source": [
        "From above we can say that yield statement suspends function’s execution and sends a value back to the caller, but retains enough state to enable function to resume where it is left off. "
      ]
    },
    {
      "cell_type": "code",
      "metadata": {
        "colab": {
          "base_uri": "https://localhost:8080/"
        },
        "id": "IQA8KjLY8Ea5",
        "outputId": "71661c1b-0edd-4e04-d01e-375c563fcac3"
      },
      "source": [
        "g = my_gen(3)\n",
        "\n",
        "print(type(g))\n",
        "\n",
        "for x in g:\n",
        "    print(x)"
      ],
      "execution_count": 7,
      "outputs": [
        {
          "output_type": "stream",
          "text": [
            "<class 'generator'>\n",
            "0\n",
            "1\n",
            "2\n"
          ],
          "name": "stdout"
        }
      ]
    },
    {
      "cell_type": "markdown",
      "metadata": {
        "id": "O8wEAri98Iy_"
      },
      "source": [
        "How yield keyword work?\n",
        "\n",
        "* After the yield statement is executed, execution of the function does not end – when the next value is requested from the generator, it will go back to the beginning of the function and execute it again.\n",
        "\n",
        "* The yield keyword in python works like a return with the only\n",
        "difference is that instead of returning a value, it gives back a generator object to the caller.\n"
      ]
    },
    {
      "cell_type": "markdown",
      "metadata": {
        "id": "zgamVWnISUIy"
      },
      "source": [
        "#### Documentation Strings"
      ]
    },
    {
      "cell_type": "code",
      "metadata": {
        "id": "-GBSKSwkSbKa"
      },
      "source": [
        "def my_function():\n",
        "    \"\"\"Do nothing, but document it.          # First latter capital and end with period\n",
        "                                             # Second line is blank if there is multiple line for documentation string.\n",
        "     No, really, it doesn't do anything.     # Indentation determine by first line open quote\n",
        "     \"\"\"\n",
        "    pass"
      ],
      "execution_count": null,
      "outputs": []
    },
    {
      "cell_type": "code",
      "metadata": {
        "id": "GG1_ft6WVSY8",
        "colab": {
          "base_uri": "https://localhost:8080/",
          "height": 85
        },
        "outputId": "6b6a00ad-99aa-4e1d-db53-447664095379"
      },
      "source": [
        "print(my_function.__doc__)"
      ],
      "execution_count": null,
      "outputs": [
        {
          "output_type": "stream",
          "text": [
            "Do nothing, but document it.         # first latter capital and end with period\n",
            "                                            # second line is blank if there is multiple line for documentation string.\n",
            "     No, really, it doesn't do anything.     # indentation determine by first line open quote\n",
            "     \n"
          ],
          "name": "stdout"
        }
      ]
    },
    {
      "cell_type": "markdown",
      "metadata": {
        "id": "AwC7z756XqtK"
      },
      "source": [
        "#### Function Annotations"
      ]
    },
    {
      "cell_type": "code",
      "metadata": {
        "id": "3a-3RNHbXwBa"
      },
      "source": [
        "def bio(name: str, address: str='address')->str: # colon (:) paxiko annotation ho and -> paxiko return type janauna\n",
        "  print(\"ANnotation\",bio.__annotations__)   \n",
        "  return 'and'+address"
      ],
      "execution_count": null,
      "outputs": []
    },
    {
      "cell_type": "code",
      "metadata": {
        "id": "ENjLAER_YR3-",
        "colab": {
          "base_uri": "https://localhost:8080/",
          "height": 52
        },
        "outputId": "19742e3e-bc71-44f4-b38a-85bfb06aebc9"
      },
      "source": [
        "bio(10)"
      ],
      "execution_count": null,
      "outputs": [
        {
          "output_type": "stream",
          "text": [
            "ANnotation {'name': <class 'str'>, 'address': <class 'str'>, 'return': <class 'str'>}\n"
          ],
          "name": "stdout"
        },
        {
          "output_type": "execute_result",
          "data": {
            "application/vnd.google.colaboratory.intrinsic": {
              "type": "string"
            },
            "text/plain": [
              "'andaddress'"
            ]
          },
          "metadata": {
            "tags": []
          },
          "execution_count": 23
        }
      ]
    },
    {
      "cell_type": "markdown",
      "metadata": {
        "id": "a_Pc2D_c46FK"
      },
      "source": [
        "# References\n",
        "\n",
        "* https://python-textbok.readthedocs.io/en/1.0/\n",
        "\n",
        "* https://realpython.com/python3-object-oriented-programming/\n",
        "\n"
      ]
    }
  ]
}